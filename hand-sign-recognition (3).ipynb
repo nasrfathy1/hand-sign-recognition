{
 "cells": [
  {
   "cell_type": "code",
   "execution_count": 1,
   "id": "cab7e1e2",
   "metadata": {
    "_cell_guid": "b1076dfc-b9ad-4769-8c92-a6c4dae69d19",
    "_uuid": "8f2839f25d086af736a60e9eeb907d3b93b6e0e5",
    "execution": {
     "iopub.execute_input": "2023-05-19T15:03:39.262927Z",
     "iopub.status.busy": "2023-05-19T15:03:39.262198Z",
     "iopub.status.idle": "2023-05-19T15:03:55.386885Z",
     "shell.execute_reply": "2023-05-19T15:03:55.385890Z"
    },
    "papermill": {
     "duration": 16.137669,
     "end_time": "2023-05-19T15:03:55.389330",
     "exception": false,
     "start_time": "2023-05-19T15:03:39.251661",
     "status": "completed"
    },
    "tags": []
   },
   "outputs": [
    {
     "name": "stderr",
     "output_type": "stream",
     "text": [
      "/opt/conda/lib/python3.10/site-packages/scipy/__init__.py:146: UserWarning: A NumPy version >=1.16.5 and <1.23.0 is required for this version of SciPy (detected version 1.23.5\n",
      "  warnings.warn(f\"A NumPy version >={np_minversion} and <{np_maxversion}\"\n"
     ]
    }
   ],
   "source": [
    "from tensorflow.keras.layers import Dense,Flatten,Dropout\n",
    "from tensorflow.keras.models import Model,load_model\n",
    "from tensorflow.keras.applications import mobilenet\n",
    "from tensorflow.keras.preprocessing.image import ImageDataGenerator\n",
    "from tensorflow.keras.optimizers import Adam\n",
    "from keras.callbacks import ModelCheckpoint,EarlyStopping\n",
    "import tensorflow as tf\n",
    "import seaborn as sn\n",
    "from sklearn.metrics import classification_report, confusion_matrix\n",
    "import os\n",
    "import shutil\n",
    "import random\n",
    "import numpy as np\n",
    "import matplotlib.pyplot as plt\n",
    "import cv2 \n"
   ]
  },
  {
   "cell_type": "code",
   "execution_count": null,
   "id": "af70f14f",
   "metadata": {
    "papermill": {
     "duration": 0.006984,
     "end_time": "2023-05-19T15:03:55.404017",
     "exception": false,
     "start_time": "2023-05-19T15:03:55.397033",
     "status": "completed"
    },
    "tags": []
   },
   "outputs": [],
   "source": []
  },
  {
   "cell_type": "code",
   "execution_count": 2,
   "id": "1105b94f",
   "metadata": {
    "execution": {
     "iopub.execute_input": "2023-05-19T15:03:55.421173Z",
     "iopub.status.busy": "2023-05-19T15:03:55.419616Z",
     "iopub.status.idle": "2023-05-19T15:04:18.837194Z",
     "shell.execute_reply": "2023-05-19T15:04:18.836117Z"
    },
    "papermill": {
     "duration": 23.428687,
     "end_time": "2023-05-19T15:04:18.840042",
     "exception": false,
     "start_time": "2023-05-19T15:03:55.411355",
     "status": "completed"
    },
    "tags": []
   },
   "outputs": [],
   "source": [
    "if not os.path.isdir(r'/kaggle/working/valid'):\n",
    "    os.makedirs(r'/kaggle/working/valid')\n",
    "    for label in os.listdir(r'/kaggle/input/handsignimages/Test'):\n",
    "        images=random.sample(os.listdir(r'/kaggle/input/handsignimages/Test/'+label),int(len(os.listdir('/kaggle/input/handsignimages/Test/'+label))/2))\n",
    "        for image in images:\n",
    "            if not os.path.isdir(f'/kaggle/working/valid/{label}'):\n",
    "                os.makedirs(f'/kaggle/working/valid/{label}')\n",
    "            shutil.copy(f'/kaggle/input/handsignimages/Test/{label}/{image}',f'/kaggle/working/valid/{label}')"
   ]
  },
  {
   "cell_type": "code",
   "execution_count": 3,
   "id": "f0cd31a5",
   "metadata": {
    "execution": {
     "iopub.execute_input": "2023-05-19T15:04:18.857735Z",
     "iopub.status.busy": "2023-05-19T15:04:18.856795Z",
     "iopub.status.idle": "2023-05-19T15:04:21.834319Z",
     "shell.execute_reply": "2023-05-19T15:04:21.833322Z"
    },
    "papermill": {
     "duration": 2.988679,
     "end_time": "2023-05-19T15:04:21.836745",
     "exception": false,
     "start_time": "2023-05-19T15:04:18.848066",
     "status": "completed"
    },
    "tags": []
   },
   "outputs": [
    {
     "name": "stdout",
     "output_type": "stream",
     "text": [
      "Found 7172 images belonging to 24 classes.\n",
      "Found 27455 images belonging to 24 classes.\n",
      "Found 3582 images belonging to 24 classes.\n"
     ]
    }
   ],
   "source": [
    "train_batche=ImageDataGenerator(preprocessing_function=mobilenet.preprocess_input).flow_from_directory(directory='/kaggle/input/handsignimages/Test',batch_size=124,target_size=(224,224))\n",
    "valid_batche=ImageDataGenerator(preprocessing_function=mobilenet.preprocess_input).flow_from_directory(directory='/kaggle/input/handsignimages/Train',batch_size=124,target_size=(224,224))\n",
    "test_batche=ImageDataGenerator(preprocessing_function=mobilenet.preprocess_input).flow_from_directory(directory='/kaggle/working/valid',batch_size=124,shuffle=False,target_size=(224,224))"
   ]
  },
  {
   "cell_type": "code",
   "execution_count": 4,
   "id": "62b1479f",
   "metadata": {
    "execution": {
     "iopub.execute_input": "2023-05-19T15:04:21.853566Z",
     "iopub.status.busy": "2023-05-19T15:04:21.853196Z",
     "iopub.status.idle": "2023-05-19T15:04:28.501186Z",
     "shell.execute_reply": "2023-05-19T15:04:28.500149Z"
    },
    "papermill": {
     "duration": 6.659195,
     "end_time": "2023-05-19T15:04:28.503785",
     "exception": false,
     "start_time": "2023-05-19T15:04:21.844590",
     "status": "completed"
    },
    "tags": []
   },
   "outputs": [
    {
     "name": "stdout",
     "output_type": "stream",
     "text": [
      "Downloading data from https://storage.googleapis.com/tensorflow/keras-applications/mobilenet/mobilenet_1_0_224_tf.h5\n",
      "17225924/17225924 [==============================] - 0s 0us/step\n"
     ]
    }
   ],
   "source": [
    "mobile=mobilenet.MobileNet()"
   ]
  },
  {
   "cell_type": "code",
   "execution_count": 5,
   "id": "5b089216",
   "metadata": {
    "execution": {
     "iopub.execute_input": "2023-05-19T15:04:28.522372Z",
     "iopub.status.busy": "2023-05-19T15:04:28.521445Z",
     "iopub.status.idle": "2023-05-19T15:04:28.587177Z",
     "shell.execute_reply": "2023-05-19T15:04:28.586245Z"
    },
    "papermill": {
     "duration": 0.077633,
     "end_time": "2023-05-19T15:04:28.589798",
     "exception": false,
     "start_time": "2023-05-19T15:04:28.512165",
     "status": "completed"
    },
    "tags": []
   },
   "outputs": [],
   "source": [
    "x=mobile.layers[-6].output\n",
    "x=Flatten()(x)\n",
    "x=Dense(1024,activation='relu')(x)\n",
    "x=Dropout(.5)(x)\n",
    "x=Dense(512,activation='relu')(x)\n",
    "x=Dropout(.5)(x)\n",
    "x=Dense(256,activation='relu')(x)\n",
    "x=Dropout(.6)(x)\n",
    "output=Dense(24,activation='softmax')(x)"
   ]
  },
  {
   "cell_type": "code",
   "execution_count": 6,
   "id": "f89894f9",
   "metadata": {
    "execution": {
     "iopub.execute_input": "2023-05-19T15:04:28.608693Z",
     "iopub.status.busy": "2023-05-19T15:04:28.606854Z",
     "iopub.status.idle": "2023-05-19T15:04:28.621423Z",
     "shell.execute_reply": "2023-05-19T15:04:28.620461Z"
    },
    "papermill": {
     "duration": 0.026025,
     "end_time": "2023-05-19T15:04:28.623754",
     "exception": false,
     "start_time": "2023-05-19T15:04:28.597729",
     "status": "completed"
    },
    "tags": []
   },
   "outputs": [],
   "source": [
    "model=Model(inputs=mobile.input,outputs=output)"
   ]
  },
  {
   "cell_type": "code",
   "execution_count": 7,
   "id": "6b19e211",
   "metadata": {
    "execution": {
     "iopub.execute_input": "2023-05-19T15:04:28.640942Z",
     "iopub.status.busy": "2023-05-19T15:04:28.640659Z",
     "iopub.status.idle": "2023-05-19T15:04:28.823419Z",
     "shell.execute_reply": "2023-05-19T15:04:28.822398Z"
    },
    "papermill": {
     "duration": 0.36032,
     "end_time": "2023-05-19T15:04:28.991912",
     "exception": false,
     "start_time": "2023-05-19T15:04:28.631592",
     "status": "completed"
    },
    "tags": []
   },
   "outputs": [
    {
     "name": "stdout",
     "output_type": "stream",
     "text": [
      "Model: \"model\"\n",
      "_________________________________________________________________\n",
      " Layer (type)                Output Shape              Param #   \n",
      "=================================================================\n",
      " input_1 (InputLayer)        [(None, 224, 224, 3)]     0         \n",
      "                                                                 \n",
      " conv1 (Conv2D)              (None, 112, 112, 32)      864       \n",
      "                                                                 \n",
      " conv1_bn (BatchNormalizatio  (None, 112, 112, 32)     128       \n",
      " n)                                                              \n",
      "                                                                 \n",
      " conv1_relu (ReLU)           (None, 112, 112, 32)      0         \n",
      "                                                                 \n",
      " conv_dw_1 (DepthwiseConv2D)  (None, 112, 112, 32)     288       \n",
      "                                                                 \n",
      " conv_dw_1_bn (BatchNormaliz  (None, 112, 112, 32)     128       \n",
      " ation)                                                          \n",
      "                                                                 \n",
      " conv_dw_1_relu (ReLU)       (None, 112, 112, 32)      0         \n",
      "                                                                 \n",
      " conv_pw_1 (Conv2D)          (None, 112, 112, 64)      2048      \n",
      "                                                                 \n",
      " conv_pw_1_bn (BatchNormaliz  (None, 112, 112, 64)     256       \n",
      " ation)                                                          \n",
      "                                                                 \n",
      " conv_pw_1_relu (ReLU)       (None, 112, 112, 64)      0         \n",
      "                                                                 \n",
      " conv_pad_2 (ZeroPadding2D)  (None, 113, 113, 64)      0         \n",
      "                                                                 \n",
      " conv_dw_2 (DepthwiseConv2D)  (None, 56, 56, 64)       576       \n",
      "                                                                 \n",
      " conv_dw_2_bn (BatchNormaliz  (None, 56, 56, 64)       256       \n",
      " ation)                                                          \n",
      "                                                                 \n",
      " conv_dw_2_relu (ReLU)       (None, 56, 56, 64)        0         \n",
      "                                                                 \n",
      " conv_pw_2 (Conv2D)          (None, 56, 56, 128)       8192      \n",
      "                                                                 \n",
      " conv_pw_2_bn (BatchNormaliz  (None, 56, 56, 128)      512       \n",
      " ation)                                                          \n",
      "                                                                 \n",
      " conv_pw_2_relu (ReLU)       (None, 56, 56, 128)       0         \n",
      "                                                                 \n",
      " conv_dw_3 (DepthwiseConv2D)  (None, 56, 56, 128)      1152      \n",
      "                                                                 \n",
      " conv_dw_3_bn (BatchNormaliz  (None, 56, 56, 128)      512       \n",
      " ation)                                                          \n",
      "                                                                 \n",
      " conv_dw_3_relu (ReLU)       (None, 56, 56, 128)       0         \n",
      "                                                                 \n",
      " conv_pw_3 (Conv2D)          (None, 56, 56, 128)       16384     \n",
      "                                                                 \n",
      " conv_pw_3_bn (BatchNormaliz  (None, 56, 56, 128)      512       \n",
      " ation)                                                          \n",
      "                                                                 \n",
      " conv_pw_3_relu (ReLU)       (None, 56, 56, 128)       0         \n",
      "                                                                 \n",
      " conv_pad_4 (ZeroPadding2D)  (None, 57, 57, 128)       0         \n",
      "                                                                 \n",
      " conv_dw_4 (DepthwiseConv2D)  (None, 28, 28, 128)      1152      \n",
      "                                                                 \n",
      " conv_dw_4_bn (BatchNormaliz  (None, 28, 28, 128)      512       \n",
      " ation)                                                          \n",
      "                                                                 \n",
      " conv_dw_4_relu (ReLU)       (None, 28, 28, 128)       0         \n",
      "                                                                 \n",
      " conv_pw_4 (Conv2D)          (None, 28, 28, 256)       32768     \n",
      "                                                                 \n",
      " conv_pw_4_bn (BatchNormaliz  (None, 28, 28, 256)      1024      \n",
      " ation)                                                          \n",
      "                                                                 \n",
      " conv_pw_4_relu (ReLU)       (None, 28, 28, 256)       0         \n",
      "                                                                 \n",
      " conv_dw_5 (DepthwiseConv2D)  (None, 28, 28, 256)      2304      \n",
      "                                                                 \n",
      " conv_dw_5_bn (BatchNormaliz  (None, 28, 28, 256)      1024      \n",
      " ation)                                                          \n",
      "                                                                 \n",
      " conv_dw_5_relu (ReLU)       (None, 28, 28, 256)       0         \n",
      "                                                                 \n",
      " conv_pw_5 (Conv2D)          (None, 28, 28, 256)       65536     \n",
      "                                                                 \n",
      " conv_pw_5_bn (BatchNormaliz  (None, 28, 28, 256)      1024      \n",
      " ation)                                                          \n",
      "                                                                 \n",
      " conv_pw_5_relu (ReLU)       (None, 28, 28, 256)       0         \n",
      "                                                                 \n",
      " conv_pad_6 (ZeroPadding2D)  (None, 29, 29, 256)       0         \n",
      "                                                                 \n",
      " conv_dw_6 (DepthwiseConv2D)  (None, 14, 14, 256)      2304      \n",
      "                                                                 \n",
      " conv_dw_6_bn (BatchNormaliz  (None, 14, 14, 256)      1024      \n",
      " ation)                                                          \n",
      "                                                                 \n",
      " conv_dw_6_relu (ReLU)       (None, 14, 14, 256)       0         \n",
      "                                                                 \n",
      " conv_pw_6 (Conv2D)          (None, 14, 14, 512)       131072    \n",
      "                                                                 \n",
      " conv_pw_6_bn (BatchNormaliz  (None, 14, 14, 512)      2048      \n",
      " ation)                                                          \n",
      "                                                                 \n",
      " conv_pw_6_relu (ReLU)       (None, 14, 14, 512)       0         \n",
      "                                                                 \n",
      " conv_dw_7 (DepthwiseConv2D)  (None, 14, 14, 512)      4608      \n",
      "                                                                 \n",
      " conv_dw_7_bn (BatchNormaliz  (None, 14, 14, 512)      2048      \n",
      " ation)                                                          \n",
      "                                                                 \n",
      " conv_dw_7_relu (ReLU)       (None, 14, 14, 512)       0         \n",
      "                                                                 \n",
      " conv_pw_7 (Conv2D)          (None, 14, 14, 512)       262144    \n",
      "                                                                 \n",
      " conv_pw_7_bn (BatchNormaliz  (None, 14, 14, 512)      2048      \n",
      " ation)                                                          \n",
      "                                                                 \n",
      " conv_pw_7_relu (ReLU)       (None, 14, 14, 512)       0         \n",
      "                                                                 \n",
      " conv_dw_8 (DepthwiseConv2D)  (None, 14, 14, 512)      4608      \n",
      "                                                                 \n",
      " conv_dw_8_bn (BatchNormaliz  (None, 14, 14, 512)      2048      \n",
      " ation)                                                          \n",
      "                                                                 \n",
      " conv_dw_8_relu (ReLU)       (None, 14, 14, 512)       0         \n",
      "                                                                 \n",
      " conv_pw_8 (Conv2D)          (None, 14, 14, 512)       262144    \n",
      "                                                                 \n",
      " conv_pw_8_bn (BatchNormaliz  (None, 14, 14, 512)      2048      \n",
      " ation)                                                          \n",
      "                                                                 \n",
      " conv_pw_8_relu (ReLU)       (None, 14, 14, 512)       0         \n",
      "                                                                 \n",
      " conv_dw_9 (DepthwiseConv2D)  (None, 14, 14, 512)      4608      \n",
      "                                                                 \n",
      " conv_dw_9_bn (BatchNormaliz  (None, 14, 14, 512)      2048      \n",
      " ation)                                                          \n",
      "                                                                 \n",
      " conv_dw_9_relu (ReLU)       (None, 14, 14, 512)       0         \n",
      "                                                                 \n",
      " conv_pw_9 (Conv2D)          (None, 14, 14, 512)       262144    \n",
      "                                                                 \n",
      " conv_pw_9_bn (BatchNormaliz  (None, 14, 14, 512)      2048      \n",
      " ation)                                                          \n",
      "                                                                 \n",
      " conv_pw_9_relu (ReLU)       (None, 14, 14, 512)       0         \n",
      "                                                                 \n",
      " conv_dw_10 (DepthwiseConv2D  (None, 14, 14, 512)      4608      \n",
      " )                                                               \n",
      "                                                                 \n",
      " conv_dw_10_bn (BatchNormali  (None, 14, 14, 512)      2048      \n",
      " zation)                                                         \n",
      "                                                                 \n",
      " conv_dw_10_relu (ReLU)      (None, 14, 14, 512)       0         \n",
      "                                                                 \n",
      " conv_pw_10 (Conv2D)         (None, 14, 14, 512)       262144    \n",
      "                                                                 \n",
      " conv_pw_10_bn (BatchNormali  (None, 14, 14, 512)      2048      \n",
      " zation)                                                         \n",
      "                                                                 \n",
      " conv_pw_10_relu (ReLU)      (None, 14, 14, 512)       0         \n",
      "                                                                 \n",
      " conv_dw_11 (DepthwiseConv2D  (None, 14, 14, 512)      4608      \n",
      " )                                                               \n",
      "                                                                 \n",
      " conv_dw_11_bn (BatchNormali  (None, 14, 14, 512)      2048      \n",
      " zation)                                                         \n",
      "                                                                 \n",
      " conv_dw_11_relu (ReLU)      (None, 14, 14, 512)       0         \n",
      "                                                                 \n",
      " conv_pw_11 (Conv2D)         (None, 14, 14, 512)       262144    \n",
      "                                                                 \n",
      " conv_pw_11_bn (BatchNormali  (None, 14, 14, 512)      2048      \n",
      " zation)                                                         \n",
      "                                                                 \n",
      " conv_pw_11_relu (ReLU)      (None, 14, 14, 512)       0         \n",
      "                                                                 \n",
      " conv_pad_12 (ZeroPadding2D)  (None, 15, 15, 512)      0         \n",
      "                                                                 \n",
      " conv_dw_12 (DepthwiseConv2D  (None, 7, 7, 512)        4608      \n",
      " )                                                               \n",
      "                                                                 \n",
      " conv_dw_12_bn (BatchNormali  (None, 7, 7, 512)        2048      \n",
      " zation)                                                         \n",
      "                                                                 \n",
      " conv_dw_12_relu (ReLU)      (None, 7, 7, 512)         0         \n",
      "                                                                 \n",
      " conv_pw_12 (Conv2D)         (None, 7, 7, 1024)        524288    \n",
      "                                                                 \n",
      " conv_pw_12_bn (BatchNormali  (None, 7, 7, 1024)       4096      \n",
      " zation)                                                         \n",
      "                                                                 \n",
      " conv_pw_12_relu (ReLU)      (None, 7, 7, 1024)        0         \n",
      "                                                                 \n",
      " conv_dw_13 (DepthwiseConv2D  (None, 7, 7, 1024)       9216      \n",
      " )                                                               \n",
      "                                                                 \n",
      " conv_dw_13_bn (BatchNormali  (None, 7, 7, 1024)       4096      \n",
      " zation)                                                         \n",
      "                                                                 \n",
      " conv_dw_13_relu (ReLU)      (None, 7, 7, 1024)        0         \n",
      "                                                                 \n",
      " conv_pw_13 (Conv2D)         (None, 7, 7, 1024)        1048576   \n",
      "                                                                 \n",
      " conv_pw_13_bn (BatchNormali  (None, 7, 7, 1024)       4096      \n",
      " zation)                                                         \n",
      "                                                                 \n",
      " conv_pw_13_relu (ReLU)      (None, 7, 7, 1024)        0         \n",
      "                                                                 \n",
      " flatten (Flatten)           (None, 50176)             0         \n",
      "                                                                 \n",
      " dense (Dense)               (None, 1024)              51381248  \n",
      "                                                                 \n",
      " dropout (Dropout)           (None, 1024)              0         \n",
      "                                                                 \n",
      " dense_1 (Dense)             (None, 512)               524800    \n",
      "                                                                 \n",
      " dropout_1 (Dropout)         (None, 512)               0         \n",
      "                                                                 \n",
      " dense_2 (Dense)             (None, 256)               131328    \n",
      "                                                                 \n",
      " dropout_2 (Dropout)         (None, 256)               0         \n",
      "                                                                 \n",
      " dense_3 (Dense)             (None, 24)                6168      \n",
      "                                                                 \n",
      "=================================================================\n",
      "Total params: 55,272,408\n",
      "Trainable params: 55,250,520\n",
      "Non-trainable params: 21,888\n",
      "_________________________________________________________________\n"
     ]
    }
   ],
   "source": [
    "model.summary()"
   ]
  },
  {
   "cell_type": "code",
   "execution_count": 8,
   "id": "2b6046fa",
   "metadata": {
    "execution": {
     "iopub.execute_input": "2023-05-19T15:04:29.045144Z",
     "iopub.status.busy": "2023-05-19T15:04:29.044814Z",
     "iopub.status.idle": "2023-05-19T15:04:29.054039Z",
     "shell.execute_reply": "2023-05-19T15:04:29.053084Z"
    },
    "papermill": {
     "duration": 0.038164,
     "end_time": "2023-05-19T15:04:29.056381",
     "exception": false,
     "start_time": "2023-05-19T15:04:29.018217",
     "status": "completed"
    },
    "tags": []
   },
   "outputs": [],
   "source": [
    "for layer in model.layers[:-17]:\n",
    "    layer.trainable=False"
   ]
  },
  {
   "cell_type": "code",
   "execution_count": 9,
   "id": "c6b2e19a",
   "metadata": {
    "execution": {
     "iopub.execute_input": "2023-05-19T15:04:29.110605Z",
     "iopub.status.busy": "2023-05-19T15:04:29.110299Z",
     "iopub.status.idle": "2023-05-19T15:04:29.130610Z",
     "shell.execute_reply": "2023-05-19T15:04:29.129732Z"
    },
    "papermill": {
     "duration": 0.049949,
     "end_time": "2023-05-19T15:04:29.132734",
     "exception": false,
     "start_time": "2023-05-19T15:04:29.082785",
     "status": "completed"
    },
    "tags": []
   },
   "outputs": [],
   "source": [
    "model.compile(optimizer=Adam(0.0001),loss='categorical_crossentropy',metrics=['accuracy'])"
   ]
  },
  {
   "cell_type": "code",
   "execution_count": 10,
   "id": "db1d0c58",
   "metadata": {
    "execution": {
     "iopub.execute_input": "2023-05-19T15:04:29.184581Z",
     "iopub.status.busy": "2023-05-19T15:04:29.184273Z",
     "iopub.status.idle": "2023-05-19T15:42:23.665850Z",
     "shell.execute_reply": "2023-05-19T15:42:23.664824Z"
    },
    "papermill": {
     "duration": 2274.539258,
     "end_time": "2023-05-19T15:42:23.697352",
     "exception": false,
     "start_time": "2023-05-19T15:04:29.158094",
     "status": "completed"
    },
    "tags": []
   },
   "outputs": [
    {
     "name": "stdout",
     "output_type": "stream",
     "text": [
      "Epoch 1/30\n",
      "\n",
      "Epoch 1: val_loss improved from inf to 2.58329, saving model to best_model.h5\n",
      "58/58 - 290s - loss: 3.7433 - accuracy: 0.1481 - val_loss: 2.5833 - val_accuracy: 0.4964 - 290s/epoch - 5s/step\n",
      "Epoch 2/30\n",
      "\n",
      "Epoch 2: val_loss improved from 2.58329 to 1.68408, saving model to best_model.h5\n",
      "58/58 - 116s - loss: 2.1806 - accuracy: 0.3695 - val_loss: 1.6841 - val_accuracy: 0.6868 - 116s/epoch - 2s/step\n",
      "Epoch 3/30\n",
      "\n",
      "Epoch 3: val_loss improved from 1.68408 to 1.10960, saving model to best_model.h5\n",
      "58/58 - 114s - loss: 1.5005 - accuracy: 0.5519 - val_loss: 1.1096 - val_accuracy: 0.7740 - 114s/epoch - 2s/step\n",
      "Epoch 4/30\n",
      "\n",
      "Epoch 4: val_loss improved from 1.10960 to 0.74988, saving model to best_model.h5\n",
      "58/58 - 116s - loss: 0.9383 - accuracy: 0.7188 - val_loss: 0.7499 - val_accuracy: 0.8365 - 116s/epoch - 2s/step\n",
      "Epoch 5/30\n",
      "\n",
      "Epoch 5: val_loss improved from 0.74988 to 0.59839, saving model to best_model.h5\n",
      "58/58 - 115s - loss: 0.6313 - accuracy: 0.8061 - val_loss: 0.5984 - val_accuracy: 0.8571 - 115s/epoch - 2s/step\n",
      "Epoch 6/30\n",
      "\n",
      "Epoch 6: val_loss improved from 0.59839 to 0.55141, saving model to best_model.h5\n",
      "58/58 - 116s - loss: 0.4431 - accuracy: 0.8625 - val_loss: 0.5514 - val_accuracy: 0.8623 - 116s/epoch - 2s/step\n",
      "Epoch 7/30\n",
      "\n",
      "Epoch 7: val_loss improved from 0.55141 to 0.52021, saving model to best_model.h5\n",
      "58/58 - 116s - loss: 0.3225 - accuracy: 0.8993 - val_loss: 0.5202 - val_accuracy: 0.8744 - 116s/epoch - 2s/step\n",
      "Epoch 8/30\n",
      "\n",
      "Epoch 8: val_loss improved from 0.52021 to 0.48207, saving model to best_model.h5\n",
      "58/58 - 116s - loss: 0.2240 - accuracy: 0.9265 - val_loss: 0.4821 - val_accuracy: 0.8745 - 116s/epoch - 2s/step\n",
      "Epoch 9/30\n",
      "\n",
      "Epoch 9: val_loss improved from 0.48207 to 0.46859, saving model to best_model.h5\n",
      "58/58 - 116s - loss: 0.1864 - accuracy: 0.9453 - val_loss: 0.4686 - val_accuracy: 0.8816 - 116s/epoch - 2s/step\n",
      "Epoch 10/30\n",
      "\n",
      "Epoch 10: val_loss did not improve from 0.46859\n",
      "58/58 - 114s - loss: 0.1618 - accuracy: 0.9494 - val_loss: 0.5218 - val_accuracy: 0.8783 - 114s/epoch - 2s/step\n",
      "Epoch 11/30\n",
      "\n",
      "Epoch 11: val_loss improved from 0.46859 to 0.43244, saving model to best_model.h5\n",
      "58/58 - 117s - loss: 0.1485 - accuracy: 0.9520 - val_loss: 0.4324 - val_accuracy: 0.8927 - 117s/epoch - 2s/step\n",
      "Epoch 12/30\n",
      "\n",
      "Epoch 12: val_loss improved from 0.43244 to 0.37700, saving model to best_model.h5\n",
      "58/58 - 120s - loss: 0.1238 - accuracy: 0.9597 - val_loss: 0.3770 - val_accuracy: 0.9056 - 120s/epoch - 2s/step\n",
      "Epoch 13/30\n",
      "\n",
      "Epoch 13: val_loss did not improve from 0.37700\n",
      "58/58 - 115s - loss: 0.1131 - accuracy: 0.9665 - val_loss: 0.4505 - val_accuracy: 0.8880 - 115s/epoch - 2s/step\n",
      "Epoch 14/30\n",
      "\n",
      "Epoch 14: val_loss did not improve from 0.37700\n",
      "58/58 - 115s - loss: 0.0853 - accuracy: 0.9723 - val_loss: 0.4733 - val_accuracy: 0.8950 - 115s/epoch - 2s/step\n",
      "Epoch 15/30\n",
      "\n",
      "Epoch 15: val_loss did not improve from 0.37700\n",
      "58/58 - 115s - loss: 0.0678 - accuracy: 0.9802 - val_loss: 0.4365 - val_accuracy: 0.8999 - 115s/epoch - 2s/step\n",
      "Epoch 16/30\n",
      "\n",
      "Epoch 16: val_loss did not improve from 0.37700\n",
      "58/58 - 117s - loss: 0.0739 - accuracy: 0.9774 - val_loss: 0.4544 - val_accuracy: 0.8998 - 117s/epoch - 2s/step\n",
      "Epoch 17/30\n",
      "\n",
      "Epoch 17: val_loss did not improve from 0.37700\n",
      "58/58 - 116s - loss: 0.0636 - accuracy: 0.9801 - val_loss: 0.4856 - val_accuracy: 0.8967 - 116s/epoch - 2s/step\n",
      "Epoch 17: early stopping\n"
     ]
    },
    {
     "data": {
      "text/plain": [
       "<keras.callbacks.History at 0x7a19f05bd3c0>"
      ]
     },
     "execution_count": 10,
     "metadata": {},
     "output_type": "execute_result"
    }
   ],
   "source": [
    "epochs=30\n",
    "early_stop = EarlyStopping(monitor='val_loss', patience=5, verbose=1, mode='min')\n",
    "checkpoint = ModelCheckpoint('best_model.h5', monitor='val_loss', save_best_only=True, verbose=1, mode='min')\n",
    "\n",
    "\n",
    "batch_size=124\n",
    "model.fit(x=train_batche,batch_size=batch_size,validation_data=valid_batche,epochs=epochs,verbose=2,callbacks=[checkpoint,early_stop])"
   ]
  },
  {
   "cell_type": "code",
   "execution_count": 11,
   "id": "ea79d242",
   "metadata": {
    "execution": {
     "iopub.execute_input": "2023-05-19T15:42:23.781774Z",
     "iopub.status.busy": "2023-05-19T15:42:23.781437Z",
     "iopub.status.idle": "2023-05-19T15:42:24.298670Z",
     "shell.execute_reply": "2023-05-19T15:42:24.297653Z"
    },
    "papermill": {
     "duration": 0.557389,
     "end_time": "2023-05-19T15:42:24.301494",
     "exception": false,
     "start_time": "2023-05-19T15:42:23.744105",
     "status": "completed"
    },
    "tags": []
   },
   "outputs": [],
   "source": [
    "\n",
    "# Define the path to the model weights file\n",
    "weights_path = '/kaggle/working/best_model.h5'\n",
    "\n",
    "\n",
    "\n",
    "# Load the weights into the model\n",
    "model.load_weights(weights_path)"
   ]
  },
  {
   "cell_type": "code",
   "execution_count": 12,
   "id": "f1e804d9",
   "metadata": {
    "execution": {
     "iopub.execute_input": "2023-05-19T15:42:24.361690Z",
     "iopub.status.busy": "2023-05-19T15:42:24.361308Z",
     "iopub.status.idle": "2023-05-19T15:42:24.368452Z",
     "shell.execute_reply": "2023-05-19T15:42:24.367276Z"
    },
    "papermill": {
     "duration": 0.040953,
     "end_time": "2023-05-19T15:42:24.372227",
     "exception": false,
     "start_time": "2023-05-19T15:42:24.331274",
     "status": "completed"
    },
    "tags": []
   },
   "outputs": [
    {
     "data": {
      "text/plain": [
       "array([ 0,  0,  0, ..., 23, 23, 23], dtype=int32)"
      ]
     },
     "execution_count": 12,
     "metadata": {},
     "output_type": "execute_result"
    }
   ],
   "source": [
    "test_labels = test_batche.classes\n",
    "test_labels"
   ]
  },
  {
   "cell_type": "code",
   "execution_count": 13,
   "id": "0f65f401",
   "metadata": {
    "execution": {
     "iopub.execute_input": "2023-05-19T15:42:24.432745Z",
     "iopub.status.busy": "2023-05-19T15:42:24.432482Z",
     "iopub.status.idle": "2023-05-19T15:42:33.977586Z",
     "shell.execute_reply": "2023-05-19T15:42:33.976476Z"
    },
    "papermill": {
     "duration": 9.577214,
     "end_time": "2023-05-19T15:42:33.980419",
     "exception": false,
     "start_time": "2023-05-19T15:42:24.403205",
     "status": "completed"
    },
    "tags": []
   },
   "outputs": [],
   "source": [
    "predictions = model.predict(x=test_batche, steps=len(test_batche), verbose=0)"
   ]
  },
  {
   "cell_type": "code",
   "execution_count": 14,
   "id": "773fc71c",
   "metadata": {
    "execution": {
     "iopub.execute_input": "2023-05-19T15:42:34.043388Z",
     "iopub.status.busy": "2023-05-19T15:42:34.043035Z",
     "iopub.status.idle": "2023-05-19T15:42:34.048112Z",
     "shell.execute_reply": "2023-05-19T15:42:34.046938Z"
    },
    "papermill": {
     "duration": 0.039317,
     "end_time": "2023-05-19T15:42:34.050505",
     "exception": false,
     "start_time": "2023-05-19T15:42:34.011188",
     "status": "completed"
    },
    "tags": []
   },
   "outputs": [],
   "source": [
    "prediction=np.argmax(predictions,axis=-1)"
   ]
  },
  {
   "cell_type": "code",
   "execution_count": 15,
   "id": "3e765c6b",
   "metadata": {
    "execution": {
     "iopub.execute_input": "2023-05-19T15:42:34.111024Z",
     "iopub.status.busy": "2023-05-19T15:42:34.110733Z",
     "iopub.status.idle": "2023-05-19T15:42:34.118455Z",
     "shell.execute_reply": "2023-05-19T15:42:34.117398Z"
    },
    "papermill": {
     "duration": 0.040358,
     "end_time": "2023-05-19T15:42:34.120744",
     "exception": false,
     "start_time": "2023-05-19T15:42:34.080386",
     "status": "completed"
    },
    "tags": []
   },
   "outputs": [
    {
     "data": {
      "text/plain": [
       "1.0"
      ]
     },
     "execution_count": 15,
     "metadata": {},
     "output_type": "execute_result"
    }
   ],
   "source": [
    "accuracy=sum(prediction==test_labels)/len(prediction)\n",
    "accuracy"
   ]
  },
  {
   "cell_type": "code",
   "execution_count": 16,
   "id": "58427232",
   "metadata": {
    "execution": {
     "iopub.execute_input": "2023-05-19T15:42:34.181812Z",
     "iopub.status.busy": "2023-05-19T15:42:34.181541Z",
     "iopub.status.idle": "2023-05-19T15:42:34.217907Z",
     "shell.execute_reply": "2023-05-19T15:42:34.216609Z"
    },
    "papermill": {
     "duration": 0.070189,
     "end_time": "2023-05-19T15:42:34.221013",
     "exception": false,
     "start_time": "2023-05-19T15:42:34.150824",
     "status": "completed"
    },
    "tags": []
   },
   "outputs": [
    {
     "name": "stdout",
     "output_type": "stream",
     "text": [
      "              precision    recall  f1-score   support\n",
      "\n",
      "           0       1.00      1.00      1.00       165\n",
      "           1       1.00      1.00      1.00       216\n",
      "           2       1.00      1.00      1.00       155\n",
      "           3       1.00      1.00      1.00       122\n",
      "           4       1.00      1.00      1.00       249\n",
      "           5       1.00      1.00      1.00       123\n",
      "           6       1.00      1.00      1.00       174\n",
      "           7       1.00      1.00      1.00       218\n",
      "           8       1.00      1.00      1.00       144\n",
      "           9       1.00      1.00      1.00       165\n",
      "          10       1.00      1.00      1.00       104\n",
      "          11       1.00      1.00      1.00       197\n",
      "          12       1.00      1.00      1.00       145\n",
      "          13       1.00      1.00      1.00       123\n",
      "          14       1.00      1.00      1.00       173\n",
      "          15       1.00      1.00      1.00        82\n",
      "          16       1.00      1.00      1.00        72\n",
      "          17       1.00      1.00      1.00       123\n",
      "          18       1.00      1.00      1.00       124\n",
      "          19       1.00      1.00      1.00       133\n",
      "          20       1.00      1.00      1.00       173\n",
      "          21       1.00      1.00      1.00       103\n",
      "          22       1.00      1.00      1.00       133\n",
      "          23       1.00      1.00      1.00       166\n",
      "\n",
      "    accuracy                           1.00      3582\n",
      "   macro avg       1.00      1.00      1.00      3582\n",
      "weighted avg       1.00      1.00      1.00      3582\n",
      "\n"
     ]
    }
   ],
   "source": [
    "confusion_matrix = confusion_matrix(test_labels,predictions.argmax(axis=1))\n",
    "confusion_matrix\n",
    "print(classification_report(test_labels, predictions.argmax(axis=1)))"
   ]
  },
  {
   "cell_type": "code",
   "execution_count": 17,
   "id": "4d7e03d3",
   "metadata": {
    "execution": {
     "iopub.execute_input": "2023-05-19T15:42:34.284552Z",
     "iopub.status.busy": "2023-05-19T15:42:34.284248Z",
     "iopub.status.idle": "2023-05-19T15:42:35.818623Z",
     "shell.execute_reply": "2023-05-19T15:42:35.817424Z"
    },
    "papermill": {
     "duration": 1.567499,
     "end_time": "2023-05-19T15:42:35.821078",
     "exception": false,
     "start_time": "2023-05-19T15:42:34.253579",
     "status": "completed"
    },
    "tags": []
   },
   "outputs": [
    {
     "data": {
      "image/png": "[encoded data removed]",
      "text/plain": [
       "<Figure size 640x480 with 2 Axes>"
      ]
     },
     "metadata": {},
     "output_type": "display_data"
    }
   ],
   "source": [
    "sn.heatmap(confusion_matrix, annot=True, cmap=plt.cm.Blues)\n",
    "plt.show()"
   ]
  },
  {
   "cell_type": "code",
   "execution_count": 18,
   "id": "6a4924c2",
   "metadata": {
    "execution": {
     "iopub.execute_input": "2023-05-19T15:42:35.882927Z",
     "iopub.status.busy": "2023-05-19T15:42:35.882004Z",
     "iopub.status.idle": "2023-05-19T15:42:35.888215Z",
     "shell.execute_reply": "2023-05-19T15:42:35.887161Z"
    },
    "papermill": {
     "duration": 0.038805,
     "end_time": "2023-05-19T15:42:35.890455",
     "exception": false,
     "start_time": "2023-05-19T15:42:35.851650",
     "status": "completed"
    },
    "tags": []
   },
   "outputs": [],
   "source": [
    "def prdict_custom_image(path):\n",
    "    image=cv2.imread(path)\n",
    "    image=cv2.resize(image,(224,224))\n",
    "\n",
    "    image=np.expand_dims(image,axis=0)\n",
    "    image=mobilenet.preprocess_input(image)\n",
    "    prediction_image=np.argmax(model.predict(image,verbose=0),axis=-1)\n",
    "    return prediction_image"
   ]
  },
  {
   "cell_type": "code",
   "execution_count": 19,
   "id": "43103361",
   "metadata": {
    "execution": {
     "iopub.execute_input": "2023-05-19T15:42:35.954139Z",
     "iopub.status.busy": "2023-05-19T15:42:35.953815Z",
     "iopub.status.idle": "2023-05-19T15:42:36.853046Z",
     "shell.execute_reply": "2023-05-19T15:42:36.851952Z"
    },
    "papermill": {
     "duration": 0.935041,
     "end_time": "2023-05-19T15:42:36.855354",
     "exception": false,
     "start_time": "2023-05-19T15:42:35.920313",
     "status": "completed"
    },
    "tags": []
   },
   "outputs": [
    {
     "data": {
      "text/plain": [
       "array([0])"
      ]
     },
     "execution_count": 19,
     "metadata": {},
     "output_type": "execute_result"
    }
   ],
   "source": [
    "prdict_custom_image(r'/kaggle/input/handsignimages/Test/A/1003_A.jpg')"
   ]
  },
  {
   "cell_type": "code",
   "execution_count": null,
   "id": "ed1da511",
   "metadata": {
    "execution": {
     "iopub.execute_input": "2023-05-19T14:51:28.724896Z",
     "iopub.status.busy": "2023-05-19T14:51:28.724441Z",
     "iopub.status.idle": "2023-05-19T14:51:28.734251Z",
     "shell.execute_reply": "2023-05-19T14:51:28.733320Z",
     "shell.execute_reply.started": "2023-05-19T14:51:28.724844Z"
    },
    "papermill": {
     "duration": 0.030538,
     "end_time": "2023-05-19T15:42:36.915865",
     "exception": false,
     "start_time": "2023-05-19T15:42:36.885327",
     "status": "completed"
    },
    "tags": []
   },
   "outputs": [],
   "source": []
  },
  {
   "cell_type": "code",
   "execution_count": null,
   "id": "b39588cb",
   "metadata": {
    "papermill": {
     "duration": 0.030334,
     "end_time": "2023-05-19T15:42:36.985513",
     "exception": false,
     "start_time": "2023-05-19T15:42:36.955179",
     "status": "completed"
    },
    "tags": []
   },
   "outputs": [],
   "source": []
  },
  {
   "cell_type": "code",
   "execution_count": null,
   "id": "b562c33e",
   "metadata": {
    "papermill": {
     "duration": 0.031087,
     "end_time": "2023-05-19T15:42:37.047178",
     "exception": false,
     "start_time": "2023-05-19T15:42:37.016091",
     "status": "completed"
    },
    "tags": []
   },
   "outputs": [],
   "source": []
  },
  {
   "cell_type": "code",
   "execution_count": null,
   "id": "33e175da",
   "metadata": {
    "papermill": {
     "duration": 0.031978,
     "end_time": "2023-05-19T15:42:37.111550",
     "exception": false,
     "start_time": "2023-05-19T15:42:37.079572",
     "status": "completed"
    },
    "tags": []
   },
   "outputs": [],
   "source": []
  },
  {
   "cell_type": "code",
   "execution_count": null,
   "id": "63ef1c3c",
   "metadata": {
    "papermill": {
     "duration": 0.030376,
     "end_time": "2023-05-19T15:42:37.173539",
     "exception": false,
     "start_time": "2023-05-19T15:42:37.143163",
     "status": "completed"
    },
    "tags": []
   },
   "outputs": [],
   "source": []
  },
  {
   "cell_type": "code",
   "execution_count": null,
   "id": "76b63e44",
   "metadata": {
    "papermill": {
     "duration": 0.029734,
     "end_time": "2023-05-19T15:42:37.233233",
     "exception": false,
     "start_time": "2023-05-19T15:42:37.203499",
     "status": "completed"
    },
    "tags": []
   },
   "outputs": [],
   "source": []
  }
 ],
 "metadata": {
  "kernelspec": {
   "display_name": "Python 3",
   "language": "python",
   "name": "python3"
  },
  "language_info": {
   "codemirror_mode": {
    "name": "ipython",
    "version": 3
   },
   "file_extension": ".py",
   "mimetype": "text/x-python",
   "name": "python",
   "nbconvert_exporter": "python",
   "pygments_lexer": "ipython3",
   "version": "3.10.10"
  },
  "papermill": {
   "default_parameters": {},
   "duration": 2357.006517,
   "end_time": "2023-05-19T15:42:41.160899",
   "environment_variables": {},
   "exception": null,
   "input_path": "__notebook__.ipynb",
   "output_path": "__notebook__.ipynb",
   "parameters": {},
   "start_time": "2023-05-19T15:03:24.154382",
   "version": "2.4.0"
  }
 },
 "nbformat": 4,
 "nbformat_minor": 5
}
